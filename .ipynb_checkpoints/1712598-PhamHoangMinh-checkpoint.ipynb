{
 "cells": [
  {
   "cell_type": "markdown",
   "metadata": {},
   "source": [
    "# Import các thư viện cần thiết"
   ]
  },
  {
   "cell_type": "code",
   "execution_count": 55,
   "metadata": {},
   "outputs": [],
   "source": [
    "import pandas as pd\n",
    "import numpy as np\n",
    "import matplotlib.pyplot as plt\n",
    "import copy"
   ]
  },
  {
   "cell_type": "markdown",
   "metadata": {},
   "source": [
    "# Dữ liệu"
   ]
  },
  {
   "cell_type": "markdown",
   "metadata": {},
   "source": [
    "## Chủ đề"
   ]
  },
  {
   "cell_type": "markdown",
   "metadata": {},
   "source": [
    "Với những tín đồ của bộ môn nghệ thuật thứ 7, việc thưởng thức những bộ phim bom tấn, ăn khách giờ đây không còn gói gọn ở rạp chiếu phim màn ảnh rộng, mà ngay trong chính những thiết bị thông minh cá nhân thông qua kết nối Internet. Nền tảng streaming phim giờ đây bùng nổ mạnh mẽ và tạo ra thị trường cạnh tranh khốc liệt. Thông qua tìm hiểu những \"ông lớn\" hiện đang thống lĩnh thị trường streaming film, như Netflix, Hulu, Prime Video, Disney+... chúng ta đưa ra được những góc nhìn và đánh giá khách quan về khả năng phát triển và sự đa dạng trong nội dung, số lượng phim... đồng thời là sự thành công trong việc đón đầu xu hướng và đáp ứng nhu cầu, thị hiếu khán giả trong bối cảnh thời đại mới."
   ]
  },
  {
   "cell_type": "markdown",
   "metadata": {},
   "source": [
    "## Thu thập dữ liệu"
   ]
  },
  {
   "cell_type": "markdown",
   "metadata": {},
   "source": [
    "Dữ liệu trong bài là tổ hợp dữ liệu được cấu thành từ 2 thành phần:\n",
    "\n",
    "- Dữ liệu được thu thập từ trang web Reelgood.com, bao gồm một danh sách toàn diện và dễ hiểu về các bộ phim hiện đang có sẵn trên nhiều nền tảng streaming khác nhau.\n",
    "\n",
    "- Dữ liệu đánh giá từ IMDb.\n",
    "\n",
    "Bộ dữ liệu được sử dụng trong bài từ trang web Kaggle. Chi tiết về dữ liệu có thể xem [ở đây](https://www.kaggle.com/ruchi798/movies-on-netflix-prime-video-hulu-and-disney)"
   ]
  },
  {
   "cell_type": "markdown",
   "metadata": {},
   "source": [
    "# Khám phá dữ liệu"
   ]
  },
  {
   "cell_type": "markdown",
   "metadata": {},
   "source": [
    "## Đọc dữ liệu từ file csv"
   ]
  },
  {
   "cell_type": "code",
   "execution_count": 56,
   "metadata": {
    "scrolled": true
   },
   "outputs": [
    {
     "data": {
      "text/html": [
       "<div>\n",
       "<style scoped>\n",
       "    .dataframe tbody tr th:only-of-type {\n",
       "        vertical-align: middle;\n",
       "    }\n",
       "\n",
       "    .dataframe tbody tr th {\n",
       "        vertical-align: top;\n",
       "    }\n",
       "\n",
       "    .dataframe thead th {\n",
       "        text-align: right;\n",
       "    }\n",
       "</style>\n",
       "<table border=\"1\" class=\"dataframe\">\n",
       "  <thead>\n",
       "    <tr style=\"text-align: right;\">\n",
       "      <th></th>\n",
       "      <th>ID</th>\n",
       "      <th>Title</th>\n",
       "      <th>Year</th>\n",
       "      <th>Age</th>\n",
       "      <th>IMDb</th>\n",
       "      <th>Rotten Tomatoes</th>\n",
       "      <th>Netflix</th>\n",
       "      <th>Hulu</th>\n",
       "      <th>Prime Video</th>\n",
       "      <th>Disney+</th>\n",
       "      <th>Type</th>\n",
       "      <th>Directors</th>\n",
       "      <th>Genres</th>\n",
       "      <th>Country</th>\n",
       "      <th>Language</th>\n",
       "      <th>Runtime</th>\n",
       "    </tr>\n",
       "  </thead>\n",
       "  <tbody>\n",
       "    <tr>\n",
       "      <td>0</td>\n",
       "      <td>1</td>\n",
       "      <td>Inception</td>\n",
       "      <td>2010</td>\n",
       "      <td>13+</td>\n",
       "      <td>8.8</td>\n",
       "      <td>87%</td>\n",
       "      <td>1</td>\n",
       "      <td>0</td>\n",
       "      <td>0</td>\n",
       "      <td>0</td>\n",
       "      <td>0</td>\n",
       "      <td>Christopher Nolan</td>\n",
       "      <td>Action,Adventure,Sci-Fi,Thriller</td>\n",
       "      <td>United States,United Kingdom</td>\n",
       "      <td>English,Japanese,French</td>\n",
       "      <td>148.0</td>\n",
       "    </tr>\n",
       "    <tr>\n",
       "      <td>1</td>\n",
       "      <td>2</td>\n",
       "      <td>The Matrix</td>\n",
       "      <td>1999</td>\n",
       "      <td>18+</td>\n",
       "      <td>8.7</td>\n",
       "      <td>87%</td>\n",
       "      <td>1</td>\n",
       "      <td>0</td>\n",
       "      <td>0</td>\n",
       "      <td>0</td>\n",
       "      <td>0</td>\n",
       "      <td>Lana Wachowski,Lilly Wachowski</td>\n",
       "      <td>Action,Sci-Fi</td>\n",
       "      <td>United States</td>\n",
       "      <td>English</td>\n",
       "      <td>136.0</td>\n",
       "    </tr>\n",
       "    <tr>\n",
       "      <td>2</td>\n",
       "      <td>3</td>\n",
       "      <td>Avengers: Infinity War</td>\n",
       "      <td>2018</td>\n",
       "      <td>13+</td>\n",
       "      <td>8.5</td>\n",
       "      <td>84%</td>\n",
       "      <td>1</td>\n",
       "      <td>0</td>\n",
       "      <td>0</td>\n",
       "      <td>0</td>\n",
       "      <td>0</td>\n",
       "      <td>Anthony Russo,Joe Russo</td>\n",
       "      <td>Action,Adventure,Sci-Fi</td>\n",
       "      <td>United States</td>\n",
       "      <td>English</td>\n",
       "      <td>149.0</td>\n",
       "    </tr>\n",
       "    <tr>\n",
       "      <td>3</td>\n",
       "      <td>4</td>\n",
       "      <td>Back to the Future</td>\n",
       "      <td>1985</td>\n",
       "      <td>7+</td>\n",
       "      <td>8.5</td>\n",
       "      <td>96%</td>\n",
       "      <td>1</td>\n",
       "      <td>0</td>\n",
       "      <td>0</td>\n",
       "      <td>0</td>\n",
       "      <td>0</td>\n",
       "      <td>Robert Zemeckis</td>\n",
       "      <td>Adventure,Comedy,Sci-Fi</td>\n",
       "      <td>United States</td>\n",
       "      <td>English</td>\n",
       "      <td>116.0</td>\n",
       "    </tr>\n",
       "    <tr>\n",
       "      <td>4</td>\n",
       "      <td>5</td>\n",
       "      <td>The Good, the Bad and the Ugly</td>\n",
       "      <td>1966</td>\n",
       "      <td>18+</td>\n",
       "      <td>8.8</td>\n",
       "      <td>97%</td>\n",
       "      <td>1</td>\n",
       "      <td>0</td>\n",
       "      <td>1</td>\n",
       "      <td>0</td>\n",
       "      <td>0</td>\n",
       "      <td>Sergio Leone</td>\n",
       "      <td>Western</td>\n",
       "      <td>Italy,Spain,West Germany</td>\n",
       "      <td>Italian</td>\n",
       "      <td>161.0</td>\n",
       "    </tr>\n",
       "  </tbody>\n",
       "</table>\n",
       "</div>"
      ],
      "text/plain": [
       "   ID                           Title  Year  Age  IMDb Rotten Tomatoes  \\\n",
       "0   1                       Inception  2010  13+   8.8             87%   \n",
       "1   2                      The Matrix  1999  18+   8.7             87%   \n",
       "2   3          Avengers: Infinity War  2018  13+   8.5             84%   \n",
       "3   4              Back to the Future  1985   7+   8.5             96%   \n",
       "4   5  The Good, the Bad and the Ugly  1966  18+   8.8             97%   \n",
       "\n",
       "   Netflix  Hulu  Prime Video  Disney+  Type                       Directors  \\\n",
       "0        1     0            0        0     0               Christopher Nolan   \n",
       "1        1     0            0        0     0  Lana Wachowski,Lilly Wachowski   \n",
       "2        1     0            0        0     0         Anthony Russo,Joe Russo   \n",
       "3        1     0            0        0     0                 Robert Zemeckis   \n",
       "4        1     0            1        0     0                    Sergio Leone   \n",
       "\n",
       "                             Genres                       Country  \\\n",
       "0  Action,Adventure,Sci-Fi,Thriller  United States,United Kingdom   \n",
       "1                     Action,Sci-Fi                 United States   \n",
       "2           Action,Adventure,Sci-Fi                 United States   \n",
       "3           Adventure,Comedy,Sci-Fi                 United States   \n",
       "4                           Western      Italy,Spain,West Germany   \n",
       "\n",
       "                  Language  Runtime  \n",
       "0  English,Japanese,French    148.0  \n",
       "1                  English    136.0  \n",
       "2                  English    149.0  \n",
       "3                  English    116.0  \n",
       "4                  Italian    161.0  "
      ]
     },
     "execution_count": 56,
     "metadata": {},
     "output_type": "execute_result"
    }
   ],
   "source": [
    "stream_df = pd.read_csv('streaming.csv')\n",
    "stream_df.head()"
   ]
  },
  {
   "cell_type": "markdown",
   "metadata": {},
   "source": [
    "## Tổng quan về dữ liệu"
   ]
  },
  {
   "cell_type": "markdown",
   "metadata": {},
   "source": [
    "Trước tiên, chúng ta cùng nhìn qua thông tin về dữ liệu."
   ]
  },
  {
   "cell_type": "code",
   "execution_count": 57,
   "metadata": {},
   "outputs": [
    {
     "name": "stdout",
     "output_type": "stream",
     "text": [
      "<class 'pandas.core.frame.DataFrame'>\n",
      "RangeIndex: 16744 entries, 0 to 16743\n",
      "Data columns (total 16 columns):\n",
      "ID                 16744 non-null int64\n",
      "Title              16744 non-null object\n",
      "Year               16744 non-null int64\n",
      "Age                7354 non-null object\n",
      "IMDb               16173 non-null float64\n",
      "Rotten Tomatoes    5158 non-null object\n",
      "Netflix            16744 non-null int64\n",
      "Hulu               16744 non-null int64\n",
      "Prime Video        16744 non-null int64\n",
      "Disney+            16744 non-null int64\n",
      "Type               16744 non-null int64\n",
      "Directors          16018 non-null object\n",
      "Genres             16469 non-null object\n",
      "Country            16309 non-null object\n",
      "Language           16145 non-null object\n",
      "Runtime            16152 non-null float64\n",
      "dtypes: float64(2), int64(7), object(7)\n",
      "memory usage: 2.0+ MB\n"
     ]
    }
   ],
   "source": [
    "stream_df.info()"
   ]
  },
  {
   "cell_type": "markdown",
   "metadata": {},
   "source": [
    "Dữ liệu bao gồm 16744 dòng và 16 cột, và ý nghĩa của từng cột dữ liệu được mô tả như sau:\n",
    "\n",
    "- **ID**: unique movie ID.\n",
    "- **Title**: movie title.\n",
    "- **Year**: the year in which the movie was produced.\n",
    "- **Age**: target age group audience.\n",
    "- **IMDb**: IMDb rating.\n",
    "- **Rotten Tomatoes**: Rotten Tomatoes percentage.\n",
    "- **Netflix**: whether the movie is found on Netflix (1 if available and 0 if not available).\n",
    "- **Hulu**: whether the movie is found on Hulu (1 if available and 0 if not available).\n",
    "- **Prime Video**: whether the movie is found on Prime Video (1 if available and 0 if not available).\n",
    "- **Disney+**: whether the movie is found on Disney+ (1 if available and 0 if not available).\n",
    "- **Type**: movie or TV series (0 for movie and 1 for TV series).\n",
    "- **Directors**: directors of the movie.\n",
    "- **Genres**: genres of the movie.\n",
    "- **Country**: country which produce the movie.\n",
    "- **Language**: language used in the movie.\n",
    "- **Run time**: the length of the movie.\n",
    "\n",
    "Nhìn vào dữ liệu trong dataframe, có thể nhận thấy mỗi dòng ứng với thông tin của một bộ phim."
   ]
  },
  {
   "cell_type": "markdown",
   "metadata": {},
   "source": [
    "Chúng ta có thể tham khảo thêm về các giá trị đặc trưng của từng cột dữ liệu dạng numeric."
   ]
  },
  {
   "cell_type": "code",
   "execution_count": 58,
   "metadata": {},
   "outputs": [
    {
     "data": {
      "text/html": [
       "<div>\n",
       "<style scoped>\n",
       "    .dataframe tbody tr th:only-of-type {\n",
       "        vertical-align: middle;\n",
       "    }\n",
       "\n",
       "    .dataframe tbody tr th {\n",
       "        vertical-align: top;\n",
       "    }\n",
       "\n",
       "    .dataframe thead th {\n",
       "        text-align: right;\n",
       "    }\n",
       "</style>\n",
       "<table border=\"1\" class=\"dataframe\">\n",
       "  <thead>\n",
       "    <tr style=\"text-align: right;\">\n",
       "      <th></th>\n",
       "      <th>ID</th>\n",
       "      <th>Year</th>\n",
       "      <th>IMDb</th>\n",
       "      <th>Netflix</th>\n",
       "      <th>Hulu</th>\n",
       "      <th>Prime Video</th>\n",
       "      <th>Disney+</th>\n",
       "      <th>Type</th>\n",
       "      <th>Runtime</th>\n",
       "    </tr>\n",
       "  </thead>\n",
       "  <tbody>\n",
       "    <tr>\n",
       "      <td>count</td>\n",
       "      <td>16744.000000</td>\n",
       "      <td>16744.000000</td>\n",
       "      <td>16173.000000</td>\n",
       "      <td>16744.000000</td>\n",
       "      <td>16744.000000</td>\n",
       "      <td>16744.000000</td>\n",
       "      <td>16744.000000</td>\n",
       "      <td>16744.0</td>\n",
       "      <td>16152.000000</td>\n",
       "    </tr>\n",
       "    <tr>\n",
       "      <td>mean</td>\n",
       "      <td>8372.500000</td>\n",
       "      <td>2003.014035</td>\n",
       "      <td>5.902751</td>\n",
       "      <td>0.212613</td>\n",
       "      <td>0.053930</td>\n",
       "      <td>0.737817</td>\n",
       "      <td>0.033684</td>\n",
       "      <td>0.0</td>\n",
       "      <td>93.413447</td>\n",
       "    </tr>\n",
       "    <tr>\n",
       "      <td>std</td>\n",
       "      <td>4833.720789</td>\n",
       "      <td>20.674321</td>\n",
       "      <td>1.347867</td>\n",
       "      <td>0.409169</td>\n",
       "      <td>0.225886</td>\n",
       "      <td>0.439835</td>\n",
       "      <td>0.180419</td>\n",
       "      <td>0.0</td>\n",
       "      <td>28.219222</td>\n",
       "    </tr>\n",
       "    <tr>\n",
       "      <td>min</td>\n",
       "      <td>1.000000</td>\n",
       "      <td>1902.000000</td>\n",
       "      <td>0.000000</td>\n",
       "      <td>0.000000</td>\n",
       "      <td>0.000000</td>\n",
       "      <td>0.000000</td>\n",
       "      <td>0.000000</td>\n",
       "      <td>0.0</td>\n",
       "      <td>1.000000</td>\n",
       "    </tr>\n",
       "    <tr>\n",
       "      <td>25%</td>\n",
       "      <td>4186.750000</td>\n",
       "      <td>2000.000000</td>\n",
       "      <td>5.100000</td>\n",
       "      <td>0.000000</td>\n",
       "      <td>0.000000</td>\n",
       "      <td>0.000000</td>\n",
       "      <td>0.000000</td>\n",
       "      <td>0.0</td>\n",
       "      <td>82.000000</td>\n",
       "    </tr>\n",
       "    <tr>\n",
       "      <td>50%</td>\n",
       "      <td>8372.500000</td>\n",
       "      <td>2012.000000</td>\n",
       "      <td>6.100000</td>\n",
       "      <td>0.000000</td>\n",
       "      <td>0.000000</td>\n",
       "      <td>1.000000</td>\n",
       "      <td>0.000000</td>\n",
       "      <td>0.0</td>\n",
       "      <td>92.000000</td>\n",
       "    </tr>\n",
       "    <tr>\n",
       "      <td>75%</td>\n",
       "      <td>12558.250000</td>\n",
       "      <td>2016.000000</td>\n",
       "      <td>6.900000</td>\n",
       "      <td>0.000000</td>\n",
       "      <td>0.000000</td>\n",
       "      <td>1.000000</td>\n",
       "      <td>0.000000</td>\n",
       "      <td>0.0</td>\n",
       "      <td>104.000000</td>\n",
       "    </tr>\n",
       "    <tr>\n",
       "      <td>max</td>\n",
       "      <td>16744.000000</td>\n",
       "      <td>2020.000000</td>\n",
       "      <td>9.300000</td>\n",
       "      <td>1.000000</td>\n",
       "      <td>1.000000</td>\n",
       "      <td>1.000000</td>\n",
       "      <td>1.000000</td>\n",
       "      <td>0.0</td>\n",
       "      <td>1256.000000</td>\n",
       "    </tr>\n",
       "  </tbody>\n",
       "</table>\n",
       "</div>"
      ],
      "text/plain": [
       "                 ID          Year          IMDb       Netflix          Hulu  \\\n",
       "count  16744.000000  16744.000000  16173.000000  16744.000000  16744.000000   \n",
       "mean    8372.500000   2003.014035      5.902751      0.212613      0.053930   \n",
       "std     4833.720789     20.674321      1.347867      0.409169      0.225886   \n",
       "min        1.000000   1902.000000      0.000000      0.000000      0.000000   \n",
       "25%     4186.750000   2000.000000      5.100000      0.000000      0.000000   \n",
       "50%     8372.500000   2012.000000      6.100000      0.000000      0.000000   \n",
       "75%    12558.250000   2016.000000      6.900000      0.000000      0.000000   \n",
       "max    16744.000000   2020.000000      9.300000      1.000000      1.000000   \n",
       "\n",
       "        Prime Video       Disney+     Type       Runtime  \n",
       "count  16744.000000  16744.000000  16744.0  16152.000000  \n",
       "mean       0.737817      0.033684      0.0     93.413447  \n",
       "std        0.439835      0.180419      0.0     28.219222  \n",
       "min        0.000000      0.000000      0.0      1.000000  \n",
       "25%        0.000000      0.000000      0.0     82.000000  \n",
       "50%        1.000000      0.000000      0.0     92.000000  \n",
       "75%        1.000000      0.000000      0.0    104.000000  \n",
       "max        1.000000      1.000000      0.0   1256.000000  "
      ]
     },
     "execution_count": 58,
     "metadata": {},
     "output_type": "execute_result"
    }
   ],
   "source": [
    "stream_df.describe()"
   ]
  },
  {
   "cell_type": "markdown",
   "metadata": {},
   "source": [
    "# Tiền xử lý dữ liệu"
   ]
  },
  {
   "cell_type": "markdown",
   "metadata": {},
   "source": [
    "Trước tiên, từ tổng quan dữ liệu ở trên, chúng ta nhận thấy rằng cột Rotten Tomatoes dữ liệu hoàn toàn lệch về phía giá trị 0. Điều này cho chúng ta nhận xét đầu tiên: mỗi dòng trong dataframe đều thể hiện thông tin về một bộ phim nào đó và hoàn toàn không có TV series nào trong dataframe. Như vậy chúng ta có thể bỏ cột này mà không ảnh hưởng đến dữ liệu đang xét."
   ]
  },
  {
   "cell_type": "code",
   "execution_count": 59,
   "metadata": {},
   "outputs": [],
   "source": [
    "stream_df.drop('Rotten Tomatoes', axis = 1, inplace = True)"
   ]
  },
  {
   "cell_type": "markdown",
   "metadata": {},
   "source": [
    "Tiếp theo, chúng ta tiến hành xem xét số giá trị NULL trên mỗi cột thuộc tính."
   ]
  },
  {
   "cell_type": "code",
   "execution_count": 60,
   "metadata": {},
   "outputs": [
    {
     "data": {
      "text/plain": [
       "ID                0\n",
       "Title             0\n",
       "Year              0\n",
       "Age            9390\n",
       "IMDb            571\n",
       "Netflix           0\n",
       "Hulu              0\n",
       "Prime Video       0\n",
       "Disney+           0\n",
       "Type              0\n",
       "Directors       726\n",
       "Genres          275\n",
       "Country         435\n",
       "Language        599\n",
       "Runtime         592\n",
       "dtype: int64"
      ]
     },
     "execution_count": 60,
     "metadata": {},
     "output_type": "execute_result"
    }
   ],
   "source": [
    "stream_df.isnull().sum()"
   ]
  },
  {
   "cell_type": "markdown",
   "metadata": {},
   "source": [
    "Nhận thấy rằng, cột Age trong dataframe bị miss dữ liệu rất nhiều (hơn 50%, nếu chúng ta so với phần mô tả dữ liệu ở trên), ngoài ra các cột Directors, Genres, Country, Language, Runtime cũng bị miss dữ liệu nhưng không đáng kể. \n",
    "\n",
    "Chúng ta có thể xử lý bằng cách bỏ đi cột Age. Nhưng vấn đề là, khi xét đến một bộ phim, yếu tố độ tuổi của người xem là rất quan trọng, để chúng ta nhận xét được phân bố các bộ phim theo độ tuổi như thế nào. Vì vây, không nên bỏ đi cột Age ở đây, chúng ta chỉ fill bằng NA, nhằm chỉ thị rằng bộ phim đang xét chưa có thông tin về phân độ tuổi. Tương tự, cách đánh giá và fill này cũng áp dụng cho các cột Directors, Genres, Language, Runtime.\n",
    "\n",
    "Chúng ta xét thêm về cột IMDb. Bởi vì cột dữ liệu này ở dạng numeric, đồng thời nó thể hiện thông tin rất quan trọng là điểm đánh giá của một bộ phim, do đó, chúng ta phải fill những giá trị rỗng ở cột này bằng con số, nhằm phản ánh được điểm đánh giá của tất cả các bộ phim có trong dataframe (cách xử lý này khác với các cột dữ liệu đã nêu trên, đều là ở dạng object). Giá trị fill ở đây chọn là Mean trong cột dữ liệu."
   ]
  },
  {
   "cell_type": "code",
   "execution_count": 61,
   "metadata": {},
   "outputs": [],
   "source": [
    "cols_list = ['Age', 'Directors', 'Genres', 'Country', 'Language', 'Runtime', 'Age']  \n",
    "stream_df[cols_list] = stream_df[cols_list].fillna('NA')"
   ]
  },
  {
   "cell_type": "code",
   "execution_count": 62,
   "metadata": {},
   "outputs": [],
   "source": [
    "stream_df['IMDb'].fillna(stream_df['IMDb'].mean(), inplace = True)"
   ]
  },
  {
   "cell_type": "markdown",
   "metadata": {},
   "source": [
    "Kiểm tra lại dataframe sao khi đã tiền xử lý."
   ]
  },
  {
   "cell_type": "code",
   "execution_count": 63,
   "metadata": {},
   "outputs": [
    {
     "name": "stdout",
     "output_type": "stream",
     "text": [
      "<class 'pandas.core.frame.DataFrame'>\n",
      "RangeIndex: 16744 entries, 0 to 16743\n",
      "Data columns (total 15 columns):\n",
      "ID             16744 non-null int64\n",
      "Title          16744 non-null object\n",
      "Year           16744 non-null int64\n",
      "Age            16744 non-null object\n",
      "IMDb           16744 non-null float64\n",
      "Netflix        16744 non-null int64\n",
      "Hulu           16744 non-null int64\n",
      "Prime Video    16744 non-null int64\n",
      "Disney+        16744 non-null int64\n",
      "Type           16744 non-null int64\n",
      "Directors      16744 non-null object\n",
      "Genres         16744 non-null object\n",
      "Country        16744 non-null object\n",
      "Language       16744 non-null object\n",
      "Runtime        16744 non-null object\n",
      "dtypes: float64(1), int64(7), object(7)\n",
      "memory usage: 1.9+ MB\n"
     ]
    }
   ],
   "source": [
    "stream_df.info()"
   ]
  },
  {
   "cell_type": "markdown",
   "metadata": {},
   "source": [
    "Như vậy dữ liệu đã hoàn chỉnh và đầy đủ. Tiếp theo, chúng ta sẽ tiến hành phân tích dữ liệu để đánh giá xem liệu dữ liệu được tiền xử lý có phản ánh được đúng với những gì chúng ta cần tìm hiểu không."
   ]
  },
  {
   "cell_type": "markdown",
   "metadata": {},
   "source": [
    "# Đưa ra các câu hỏi cần trả lời\n",
    "Sau khi đã khám phá dữ liệu và nhìn nhận được tổng quan về dữ liệu, chúng ta có thể trả lời những câu hỏi sau bằng dữ liệu:\n",
    "\n",
    "- Số lượng phim phân bố theo nền tảng stream? Nền tảng stream nào đang dẫn đầu?\n",
    "- Với mỗi nền tảng stream, số lượng phim phân bố theo độ tuổi là như thế nào?\n",
    "- Khi người dùng nhập tiêu đề của một phim, có thể thông báo cho người dùng biết phim đó xuất hiện trên nền tảng nào?\n",
    "- Phân bố các thể loại phim theo từng nền tảng như thế nào?"
   ]
  },
  {
   "cell_type": "markdown",
   "metadata": {},
   "source": [
    "## Phân tích dữ liệu để trả lời các câu hỏi"
   ]
  },
  {
   "cell_type": "markdown",
   "metadata": {},
   "source": [
    "### Câu hỏi: Số lượng phim phân bố theo nền tảng stream? Nền tảng stream nào đang dẫn đầu?\n",
    "Để trả lời được câu hỏi này, chúng ta sẽ làm như sau:\n",
    "- Bước 1: Lọc ra từ dataframe những dòng (những bộ phim) thuộc từng nền tảng stream khác nhau.\n",
    "- Bước 2: Từ kết quả đã lọc ra, chúng ta tính tổng số bộ phim của mỗi nền tảng, sau đó biểu diễn bằng bar chart để dễ dàng nhìn nhận được kết quả và trả lời được câu hỏi."
   ]
  },
  {
   "cell_type": "code",
   "execution_count": 64,
   "metadata": {},
   "outputs": [
    {
     "data": {
      "text/html": [
       "<div>\n",
       "<style scoped>\n",
       "    .dataframe tbody tr th:only-of-type {\n",
       "        vertical-align: middle;\n",
       "    }\n",
       "\n",
       "    .dataframe tbody tr th {\n",
       "        vertical-align: top;\n",
       "    }\n",
       "\n",
       "    .dataframe thead th {\n",
       "        text-align: right;\n",
       "    }\n",
       "</style>\n",
       "<table border=\"1\" class=\"dataframe\">\n",
       "  <thead>\n",
       "    <tr style=\"text-align: right;\">\n",
       "      <th></th>\n",
       "      <th>Platform</th>\n",
       "      <th>Number of movie</th>\n",
       "    </tr>\n",
       "  </thead>\n",
       "  <tbody>\n",
       "    <tr>\n",
       "      <td>0</td>\n",
       "      <td>Netflix</td>\n",
       "      <td>3560</td>\n",
       "    </tr>\n",
       "    <tr>\n",
       "      <td>1</td>\n",
       "      <td>Hulu</td>\n",
       "      <td>903</td>\n",
       "    </tr>\n",
       "    <tr>\n",
       "      <td>2</td>\n",
       "      <td>Prime Video</td>\n",
       "      <td>12354</td>\n",
       "    </tr>\n",
       "    <tr>\n",
       "      <td>3</td>\n",
       "      <td>Disney+</td>\n",
       "      <td>564</td>\n",
       "    </tr>\n",
       "  </tbody>\n",
       "</table>\n",
       "</div>"
      ],
      "text/plain": [
       "      Platform  Number of movie\n",
       "0      Netflix             3560\n",
       "1         Hulu              903\n",
       "2  Prime Video            12354\n",
       "3      Disney+              564"
      ]
     },
     "execution_count": 64,
     "metadata": {},
     "output_type": "execute_result"
    }
   ],
   "source": [
    "nums_netflix_movie = stream_df['Netflix'].sum()\n",
    "\n",
    "nums_hulu_movie = stream_df['Hulu'].sum()\n",
    "\n",
    "nums_prime_movie = stream_df['Prime Video'].sum()\n",
    "\n",
    "nums_disney_movie = stream_df['Disney+'].sum()\n",
    "\n",
    "nums_platform = (nums_netflix_movie, nums_hulu_movie, nums_prime_movie, nums_disney_movie)\n",
    "cols_list = ['Netflix', 'Hulu', 'Prime Video', 'Disney+'] \n",
    "platform_list = list(zip(cols_list, nums_platform))\n",
    "\n",
    "platform_df = pd.DataFrame(data = platform_list, columns = ['Platform','Number of movie'])\n",
    "platform_df"
   ]
  },
  {
   "cell_type": "code",
   "execution_count": 65,
   "metadata": {},
   "outputs": [
    {
     "data": {
      "image/png": "[encoded data removed]",
      "text/plain": [
       "<Figure size 432x288 with 1 Axes>"
      ]
     },
     "metadata": {
      "needs_background": "light"
     },
     "output_type": "display_data"
    }
   ],
   "source": [
    "platform_df.sort_values(by = 'Number of movie', inplace = True)\n",
    "plt.barh(platform_df['Platform'], platform_df['Number of movie'])\n",
    "plt.xlabel('Number of movies')\n",
    "plt.ylabel('Platform')\n",
    "plt.show()"
   ]
  },
  {
   "cell_type": "markdown",
   "metadata": {},
   "source": [
    "Nhìn vào biểu đồ, chúng ta dễ dàng nhận thấy vị thế dẫn đầu vượt trội của nền tảng Prime Video, vượt xa so với những nền tảng khác về số lượng phim được stream. Nhìn vào dataframe, số lượng phim của nó gần gấp 3 lần so với nền tảng Netflix, và gấp nhiều lần so với hai nền tảng còn lại. Có thể nói rằng, nếu chưa xét đến khía cạnh khác thì Prime Video dễ dàng được đề xuất cho những người dùng mới. Bởi lẽ, chính nguồn phim dồi dào thế này đã đủ để cuốn hút người dùng, người dùng sẽ đặc biệt ấn tượng với con số này và nghĩ đến rằng có thể sẽ tìm được rất nhiều những phim mình yêu thích trên nền tảng này."
   ]
  },
  {
   "cell_type": "markdown",
   "metadata": {},
   "source": [
    "### Câu hỏi: Với mỗi nền tảng stream, số lượng phim phân bố theo độ tuổi là như thế nào?\n",
    "Với câu hỏi này, chúng ta cần phải thực hiện:\n",
    "- Bước 1: Tiến hành lọc ra những phim thuộc từng nền tảng mà nó được stream và tính toán số lượng phim thuộc từng nhóm độ tuổi.\n",
    "- Bước 2: Sau khi đã có được những kết quả ở bước 1, tiến hành lập dataframe để biểu thị các nhóm độ tuổi và nền tảng tương ứng của nó chứa bao nhiêu phim trực quan và phục vụ các tính toán sau này."
   ]
  },
  {
   "cell_type": "code",
   "execution_count": 66,
   "metadata": {},
   "outputs": [
    {
     "data": {
      "text/html": [
       "<div>\n",
       "<style scoped>\n",
       "    .dataframe tbody tr th:only-of-type {\n",
       "        vertical-align: middle;\n",
       "    }\n",
       "\n",
       "    .dataframe tbody tr th {\n",
       "        vertical-align: top;\n",
       "    }\n",
       "\n",
       "    .dataframe thead th {\n",
       "        text-align: right;\n",
       "    }\n",
       "</style>\n",
       "<table border=\"1\" class=\"dataframe\">\n",
       "  <thead>\n",
       "    <tr style=\"text-align: right;\">\n",
       "      <th></th>\n",
       "      <th>Age</th>\n",
       "      <th>Netflix</th>\n",
       "      <th>Hulu</th>\n",
       "      <th>Prime</th>\n",
       "      <th>Disney</th>\n",
       "    </tr>\n",
       "  </thead>\n",
       "  <tbody>\n",
       "    <tr>\n",
       "      <td>0</td>\n",
       "      <td>NA</td>\n",
       "      <td>1883</td>\n",
       "      <td>313</td>\n",
       "      <td>7375</td>\n",
       "      <td>64</td>\n",
       "    </tr>\n",
       "    <tr>\n",
       "      <td>1</td>\n",
       "      <td>18+</td>\n",
       "      <td>752</td>\n",
       "      <td>290</td>\n",
       "      <td>2612</td>\n",
       "      <td>3</td>\n",
       "    </tr>\n",
       "    <tr>\n",
       "      <td>2</td>\n",
       "      <td>13+</td>\n",
       "      <td>383</td>\n",
       "      <td>119</td>\n",
       "      <td>819</td>\n",
       "      <td>40</td>\n",
       "    </tr>\n",
       "    <tr>\n",
       "      <td>3</td>\n",
       "      <td>7+</td>\n",
       "      <td>323</td>\n",
       "      <td>109</td>\n",
       "      <td>916</td>\n",
       "      <td>179</td>\n",
       "    </tr>\n",
       "    <tr>\n",
       "      <td>4</td>\n",
       "      <td>all</td>\n",
       "      <td>130</td>\n",
       "      <td>55</td>\n",
       "      <td>406</td>\n",
       "      <td>277</td>\n",
       "    </tr>\n",
       "    <tr>\n",
       "      <td>5</td>\n",
       "      <td>16+</td>\n",
       "      <td>89</td>\n",
       "      <td>17</td>\n",
       "      <td>226</td>\n",
       "      <td>1</td>\n",
       "    </tr>\n",
       "  </tbody>\n",
       "</table>\n",
       "</div>"
      ],
      "text/plain": [
       "   Age  Netflix  Hulu  Prime  Disney\n",
       "0   NA     1883   313   7375      64\n",
       "1  18+      752   290   2612       3\n",
       "2  13+      383   119    819      40\n",
       "3   7+      323   109    916     179\n",
       "4  all      130    55    406     277\n",
       "5  16+       89    17    226       1"
      ]
     },
     "execution_count": 66,
     "metadata": {},
     "output_type": "execute_result"
    }
   ],
   "source": [
    "netflix_age = stream_df[stream_df['Netflix'] == 1]['Age'].value_counts()\n",
    "\n",
    "hulu_age = stream_df[stream_df['Hulu'] == 1]['Age'].value_counts()\n",
    "\n",
    "prime_age = stream_df[stream_df['Prime Video'] == 1]['Age'].value_counts()\n",
    "\n",
    "disney_age = stream_df[stream_df['Disney+'] == 1]['Age'].value_counts()\n",
    "\n",
    "age_dist = pd.DataFrame()\n",
    "age_dist = age_dist.assign(Netflix = netflix_age, Hulu = hulu_age, Prime = prime_age, Disney = disney_age)\n",
    "age_dist.reset_index(inplace = True)\n",
    "age_dist.rename(columns = {'index' : 'Age'}, inplace = True)\n",
    "\n",
    "age_dist"
   ]
  },
  {
   "cell_type": "markdown",
   "metadata": {},
   "source": [
    "Nhìn vào dataframe về số lượng phim phân bố theo độ tuổi của từng nền tảng, chúng ta thêm được một số nhận xét mới:\n",
    "- Thứ nhất, số lượng phim không được phân độ tuổi ở mỗi nền tảng rất nhiều nếu so với số lượng phim đã được phân độ tuổi. Điều này đã được trình bày trong quá trình tiền xử lý dữ liệu, nghĩa là xét về mặt xử lý, việc chúng ta fill là hợp theo logic, tuy nhiên, khi phân tích sâu hơn thì những phim không được gán độ tuổi có thể làm chúng ta mất đi đánh giá hợp lý nếu đánh giá tổng thể về phân bố độ tuổi hay khi cần đề xuất phim cho người dùng.\n",
    "\n",
    "\n",
    "- Thứ hai, dễ dàng nhận thấy ở bất kỳ độ tuổi nào, nền tảng Prime Video đều rất vượt trội và bỏ xa so với các nền tảng còn lại. Đồng thời, nếu không xét những phim chưa được gán độ tuổi, đặc biệt số lượng phim trong độ tuổi giới hạn 18+ của Prime Video là rất nhiều. Con số ấn tượng này có thể thể hiện được lượng khán giả mà nền tảng hướng tới chủ yếu là trên 18 tuổi, với những nội dung và kịch bản phim có thể sáng tạo, phát triển về nội dung rất đa dạng để tương thích với góc nhìn và quan điểm của độ tuổi này. Thêm vào đó, đối tượng khán giả ở độ tuổi này cũng là những người thường đi đầu xu thế công nghệ mới, cập nhật thông tin và tương tác với nhau trực tuyến rất thường xuyên, nên việc nhà phát triển nhắm tới đối tượng này cũng là điều dễ hiểu nếu muốn thúc đẩy sự phát triển của mình."
   ]
  },
  {
   "cell_type": "markdown",
   "metadata": {},
   "source": [
    "### Câu hỏi: Khi người dùng nhập tiêu đề của một phim, có thể thông báo cho người dùng biết phim đó xuất hiện trên nền tảng nào?\n",
    "Với loại câu hỏi này, chúng ta cần xây dựng một hàm nhận vào là tiêu đề phim cho người dùng và trả về câu trả lời rằng phim người dùng nhập thuộc nền tảng nào nhằm phục vụ cho mục đích tìm kiếm của người dùng. Đây cũng có thể xem như một câu hỏi truy vấn.\n",
    "\n",
    "Trong hàm này, tiêu đề phim do người dùng nhập sẽ được dùng để lọc và kiểm chứng trong dataframe ban đầu. Kết quả lọc sau đó sẽ được kiểm tra xem có rỗng hay không tương ứng theo từng nền tảng, sau đó, người dùng sẽ nhận được câu trả lời xuất ra màn hình."
   ]
  },
  {
   "cell_type": "code",
   "execution_count": 67,
   "metadata": {},
   "outputs": [],
   "source": [
    "def Find_Platform(film_title, stream_df):\n",
    "    \n",
    "    test_stream_df = copy.deepcopy(stream_df)\n",
    "    \n",
    "    netflix_movie = test_stream_df[stream_df['Netflix'] == 1] \n",
    "    hulu_movie = test_stream_df[stream_df['Hulu'] == 1] \n",
    "    prime_movie = test_stream_df[stream_df['Prime Video'] == 1] \n",
    "    disney_movie = test_stream_df[stream_df['Disney+'] == 1] \n",
    "    \n",
    "    available_netflix = netflix_movie.loc[netflix_movie['Title'] == (title)]\n",
    "    available_hulu = hulu_movie.loc[hulu_movie['Title'] == (title)]\n",
    "    available_prime = prime_movie.loc[prime_movie['Title'] == (title)]\n",
    "    available_disney = disney_movie.loc[disney_movie['Title'] == (title)]\n",
    "    \n",
    "    if len(available_netflix) > 0:\n",
    "        print('This film is available on' + ' ' + 'Netflix.')\n",
    "    if len(available_hulu) > 0:\n",
    "        print('This film is available on' + ' ' + 'Hulu.')\n",
    "    if len(available_prime) > 0:\n",
    "        print('This film is available on' + ' ' + 'Prime Video.')\n",
    "    if len(available_disney) > 0:\n",
    "        print('This film is available on' + ' ' + 'Disney+.')\n",
    "        "
   ]
  },
  {
   "cell_type": "code",
   "execution_count": 68,
   "metadata": {},
   "outputs": [
    {
     "name": "stdout",
     "output_type": "stream",
     "text": [
      "This film is available on Netflix.\n",
      "This film is available on Prime Video.\n"
     ]
    }
   ],
   "source": [
    "title = 'The Good, the Bad and the Ugly'\n",
    "Find_Platform(title, stream_df)"
   ]
  },
  {
   "cell_type": "markdown",
   "metadata": {},
   "source": [
    "### Câu hỏi: Phân bố thể loại theo từng nền tảng phim như thế nào?\n",
    "Trước tiên, để trả lời câu hỏi này, chúng ta cần phải trực quan được rằng phân bố thể loại trong dữ liệu hiện đang có tình hình như thế nào. Tất nhiên, khi nhìn kĩ vào cột Genres chúng ta sẽ thấy một bộ phim thường gồm nhiều thể loại khác nhau (làm cho bộ phim dễ thu hút khán giả hơn), nhưng ở đây, chúng ta sẽ tách chúng ra, vừa để quan sát, vừa để so sánh xem thể loại phim nào đang chiếm ưu thế và chiếm bao nhiêu trong tổng số các phim."
   ]
  },
  {
   "cell_type": "code",
   "execution_count": 69,
   "metadata": {},
   "outputs": [
    {
     "data": {
      "image/png": "[encoded data removed]",
      "text/plain": [
       "<Figure size 720x576 with 1 Axes>"
      ]
     },
     "metadata": {
      "needs_background": "light"
     },
     "output_type": "display_data"
    }
   ],
   "source": [
    "genres_dist = stream_df['Genres'].str.get_dummies(',')\n",
    "genres_dist = genres_dist.sum().sort_values()\n",
    "plt.figure(figsize = (10, 8))\n",
    "genres_dist.plot(kind = \"barh\")\n",
    "plt.xlabel('Total number of movies')\n",
    "plt.ylabel('Genres')\n",
    "plt.show()"
   ]
  },
  {
   "cell_type": "markdown",
   "metadata": {},
   "source": [
    "Quan sát biểu đồ, chúng ta nhận thấy top 3 hiện tại đang thuộc về 3 thể loại là Drama, Comedy và Thriller. Nếu nhìn vào thực tế những gì thể hiện trong 3 thể loại này, chúng ta có thể nhận xét đôi lời rằng tại sao chúng lại dẫn đầu.\n",
    "\n",
    "- Với thể loại Drama, đặc điểm chung về dòng phim này là có thời lượng dài (nếu xét phim chiếu rạp) hoặc nhiều tập. Nhìn lại những bộ phim gần đây, xu hướng Drama trong phim thường xoay quanh cuộc sống của con người với nhiều tình huống bi - hài kịch hay thể hiện tình cảm, sự mâu thuẫn,... nhưng theo chiều hướng cường điệu hóa so với thế giới thực, thoát ly khỏi thế giới thực. Bởi vậy, có những đánh giá cho rằng, thể loại phim này thường nhắm vào những đối tượng khán giả tò mò hoặc thường complaint về cuộc sống trong thế giới thực, mơ mộng về những điều gì đó để thoát ly khỏi thực tế (dù thực ra, có những chi tiết phi lý đến vô cùng). Bên cạnh đó, dòng phim này còn ăn điểm ở bối cảnh, diễn viên và phục trang ăn khách, hợp thời, nên không khó hiểu nó tạo được vị trí dẫn đầu trong danh sách các thể loại phim ăn khách.\n",
    "\n",
    "\n",
    "- Thể loại Comedy, chúng ta không quá xa lạ với nó. Dòng phim hài dù ở bất kỳ hoàn cảnh nào, thời đại nào, đều có chỗ đứng riêng biệt. Khán giả đến với dòng phim này rất đơn giản, để tìm được tiếng cười, sự hài hước giải trí lành mạnh và tích cực. Nhưng với sự phát triển của mình, dòng phim hài ngày càng có chiều sâu, không đơn thuần chỉ để thu hút tiếng cười, mà tiếng cười trong nó còn là tiếng cười mỉa mai, châm biếm, lồng ghép nhiều tầng ý nghĩa về cuộc sống xã hội, về con người và số phận. Vì thế, cách tiếp cận của dòng phim hài rất đơn giản, trực tiếp vào đối tượng khán giả nhưng tiếng cười sau khi hạ màn lại đọng lại với những dư âm khó phai. Cho nên, vị thế của dòng phim này và sự dẫn đầu của nó là không phải bàn cãi.\n",
    "\n",
    "\n",
    "- Cuối cùng, thể loại phim Thriller. Dòng phim này khai thác yếu tố cốt lõi và cũng là bản tính của con người: sự tò mò và căng thẳng. Với sự sắp đặt tình huống phim và diễn biến phim tăng dần theo chiều hướng bất khả thi, cài cắm nhiều chi tiết giải thích và thông tin xuyên suốt thời lượng, dòng phim này kích thích trí tưởng tượng và sự hồi hộp trong từng khán giả, làm cho họ như nhập tâm vào bộ phim và đi tìm lời giải cho chính sự băn khoăn của mình. Nhiều nhà phê bình cho rằng, chính yếu tố này đã làm cho thể loại Thriller phát triển rất mạnh, có thể cùng phối hợp với nhiều thể loại phim khác nhau để đem đến cho khán giả nhiều bộ phim đỉnh cao và kích thích 'adrenalin' trong mỗi người lên mức cao nhất. Không cần phải nói thêm nữa, thực sự Thriller đã dần dần bước lên vị thế dẫn đầu của nó trong những năm gần đây "
   ]
  },
  {
   "cell_type": "markdown",
   "metadata": {},
   "source": [
    "Sau khi đã có những lập luận và đánh giá như trên, chúng ta thử trực quan xem liệu rằng, những thể loại này có chiếm ưu thế trên các nền tảng phổ biến phim không. Chúng ta cũng sẽ lọc ra những phim thuộc từng nền tảng và phân thể loại như đã thực hiện ở trên."
   ]
  },
  {
   "cell_type": "code",
   "execution_count": 70,
   "metadata": {},
   "outputs": [],
   "source": [
    "genres_netflix = stream_df.loc[stream_df['Netflix'] == 1]\n",
    "genres_netflix_dist = genres_netflix['Genres'].str.get_dummies(',').sum()\n",
    "\n",
    "genres_hulu = stream_df.loc[stream_df['Hulu'] == 1]\n",
    "genres_hulu_dist = genres_hulu['Genres'].str.get_dummies(',').sum()\n",
    "\n",
    "genres_prime = stream_df.loc[stream_df['Prime Video'] == 1]\n",
    "genres_prime_dist = genres_prime['Genres'].str.get_dummies(',').sum()\n",
    "\n",
    "genres_disney = stream_df.loc[stream_df['Disney+'] == 1]\n",
    "genres_disney_dist = genres_disney['Genres'].str.get_dummies(',').sum()"
   ]
  },
  {
   "cell_type": "markdown",
   "metadata": {},
   "source": [
    "Trực quan những dữ liệu sau quá trình lọc theo từng nền tảng. Chúng ta sẽ sắp xếp các thể loại tăng dần theo độ phổ biến, vì vậy khi trực quan chúng ta chỉ sử dụng 10 phần tử cuối cùng, và sẽ đồng thời hiển thị 4 biểu đồ tương ứng 4 nền tảng để dễ dàng quan sát và đối chiếu."
   ]
  },
  {
   "cell_type": "code",
   "execution_count": 71,
   "metadata": {
    "scrolled": true
   },
   "outputs": [
    {
     "data": {
      "image/png": "[encoded data removed]",
      "text/plain": [
       "<Figure size 864x864 with 4 Axes>"
      ]
     },
     "metadata": {
      "needs_background": "light"
     },
     "output_type": "display_data"
    }
   ],
   "source": [
    "fig , axes = plt.subplots(2,2,figsize = (12,12))\n",
    "plt.subplots_adjust(hspace = 0.6, wspace = 0.5)    \n",
    "    \n",
    "genres_netflix_dist.sort_values().tail(10).plot(kind = 'barh', ax = axes[0, 0])\n",
    "axes[0,0].set_title('Netflix')\n",
    "axes[0,0].set_xlabel('Number of movies')\n",
    "axes[0,0].set_ylabel('Genres')\n",
    "\n",
    "genres_hulu_dist.sort_values().tail(10).plot(kind = 'barh', ax = axes[1, 0])\n",
    "axes[1,0].set_title('Hulu')\n",
    "axes[1,0].set_xlabel('Number of movies')\n",
    "axes[1,0].set_ylabel('Genres')\n",
    "\n",
    "genres_prime_dist.sort_values().tail(10).plot(kind = 'barh', ax = axes[0, 1])\n",
    "axes[0,1].set_title('Prime Video')\n",
    "axes[0,1].set_xlabel('Number of movies')\n",
    "axes[0,1].set_ylabel('Genres')\n",
    "\n",
    "genres_disney_dist.sort_values().tail(10).plot(kind = 'barh', ax = axes[1, 1])\n",
    "axes[1,1].set_title('Disney')\n",
    "axes[1,1].set_xlabel('Number of movies')\n",
    "axes[1,1].set_ylabel('Genres')\n",
    "\n",
    "plt.show()"
   ]
  },
  {
   "cell_type": "markdown",
   "metadata": {},
   "source": [
    "Như vậy, khi đã có trong tay những biểu đồ trực quan này, chúng ta càng củng cố thêm được niềm tin trong lập luận về các thể loại dẫn đầu xu hướng ở trên, rằng ở cả 4 nền tảng, những thể loại này chiếm số lượng phim đều dẫn đầu."
   ]
  },
  {
   "cell_type": "markdown",
   "metadata": {},
   "source": [
    "# Nhìn lại quá trình thực hiện"
   ]
  },
  {
   "cell_type": "markdown",
   "metadata": {},
   "source": [
    "- Trong quá trình thực hiện những phân tích, đánh giá trên dữ liệu về các nền tảng phim, nếu xét về phần thu thập và tiền xử lý dữ liệu đều rất đơn giản. Tuy nhiên, khi đi sâu vào phân tích, khó khăn lớn nhất là về rút trích những đặc trưng về tập dữ liệu, để có thể cung cấp được những câu hỏi, những băn khoăn làm sao để mô tả và phát triển dữ liệu tốt nhất, đánh giá xem liệu có thể mang lại niềm tin cho khán giả để lựa chọn và sử dụng những nền tảng này không?\n",
    "\n",
    "\n",
    "- Mặt khác, với những phân tích và câu hỏi đưa ra, khán giả cũng có thể nắm bắt được tổng quan về những nền tảng này. Khán giả có thể tìm được nền tảng phim hợp lý cho mình dựa theo sự đa dạng của từng nền tảng, dựa vào sự phân bố độ tuổi theo phim trong từng nền tảng để tìm được nền tảng best choice cho riêng mình, hay có thể tìm kiếm được phim mà mình yêu thích trên nền tảng thích hợp. Đồng thời, nhờ vào những quan sát về phân bố thể loại theo nền tảng, việc khán giả liên hệ được với sở thích của chính bản thân được rút ngắn lại, cho phép khán giả trải nghiệm nền tảng phim tốt nhất có thể.\n",
    "\n",
    "\n",
    "- Vì thời gian tiến hành phân tích diễn ra trong thời gian ngắn nên thật sự có rất nhiều thiếu sót và khó tránh khỏi việc khán giả không thể tìm được những câu trả lời mong muốn. Nếu có thể phân tích trong khoảng thời gian nhiều hơn, hi vọng sẽ mang đến thật nhiều câu hỏi hữu ích cho khán giả và trực quan được nhiều dạng biểu đồ khác nhau để khán giả dễ dàng quan sát và giải tỏa được những băn khoăn của mình trong quá trình lựa chọn những nền tảng phim trực tuyến."
   ]
  }
 ],
 "metadata": {
  "kernelspec": {
   "display_name": "Python 3",
   "language": "python",
   "name": "python3"
  },
  "language_info": {
   "codemirror_mode": {
    "name": "ipython",
    "version": 3
   },
   "file_extension": ".py",
   "mimetype": "text/x-python",
   "name": "python",
   "nbconvert_exporter": "python",
   "pygments_lexer": "ipython3",
   "version": "3.7.4"
  }
 },
 "nbformat": 4,
 "nbformat_minor": 2
}
